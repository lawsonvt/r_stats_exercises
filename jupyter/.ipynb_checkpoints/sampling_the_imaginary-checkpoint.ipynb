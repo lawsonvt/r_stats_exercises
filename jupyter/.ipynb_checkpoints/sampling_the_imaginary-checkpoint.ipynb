{
 "cells": [
  {
   "cell_type": "markdown",
   "metadata": {},
   "source": [
    "# Sample The Imaginary\n",
    "\n",
    "## Practice Problems\n",
    "\n",
    "3M1. Suppose the globe tossing data had turned out to be 8 water in 15 tosses. Construct the posterior distribution, using grid approximation. Use the same flat prior as before."
   ]
  },
  {
   "cell_type": "code",
   "execution_count": 1,
   "metadata": {},
   "outputs": [
    {
     "ename": "ERROR",
     "evalue": "Error in library(ggplot2): there is no package called ‘ggplot2’\n",
     "output_type": "error",
     "traceback": [
      "Error in library(ggplot2): there is no package called ‘ggplot2’\nTraceback:\n",
      "1. library(ggplot2)",
      "2. stop(txt, domain = NA)"
     ]
    }
   ],
   "source": [
    "library(ggplot2)\n",
    "\n",
    "p_grid <- seq(from=0, to=1, length.out=1000)\n",
    "\n",
    "prior <- rep(1, 1000)\n",
    "\n",
    "likelihood <- dbinom(8, size = 15, prob=p_grid)\n",
    "\n",
    "posterior <- likelihood * prior\n",
    "\n",
    "posterior <- posterior / sum(posterior)\n",
    "\n",
    "ggplot(data.frame(prob=p_grid,\n",
    "                  post=posterior),\n",
    "      aes(x=prob, y=posterior)) +\n",
    "geom_point() + geom_line() + theme_bw() +\n",
    "labs(x=\"Probability of Water\", y=\"Posterior Probability\")"
   ]
  },
  {
   "cell_type": "markdown",
   "metadata": {},
   "source": [
    "3M2. Draw 10,000 samples from the grid approximation from above. Then use the samples to calculate the 90% HPDI for p."
   ]
  },
  {
   "cell_type": "code",
   "execution_count": 5,
   "metadata": {},
   "outputs": [
    {
     "data": {
      "text/html": [
       "<table>\n",
       "<caption>A matrix: 1 × 2 of type dbl</caption>\n",
       "<thead>\n",
       "\t<tr><th></th><th scope=col>lower</th><th scope=col>upper</th></tr>\n",
       "</thead>\n",
       "<tbody>\n",
       "\t<tr><th scope=row>var1</th><td>0.3293293</td><td>0.7117117</td></tr>\n",
       "</tbody>\n",
       "</table>\n"
      ],
      "text/latex": [
       "A matrix: 1 × 2 of type dbl\n",
       "\\begin{tabular}{r|ll}\n",
       "  & lower & upper\\\\\n",
       "\\hline\n",
       "\tvar1 & 0.3293293 & 0.7117117\\\\\n",
       "\\end{tabular}\n"
      ],
      "text/markdown": [
       "\n",
       "A matrix: 1 × 2 of type dbl\n",
       "\n",
       "| <!--/--> | lower | upper |\n",
       "|---|---|---|\n",
       "| var1 | 0.3293293 | 0.7117117 |\n",
       "\n"
      ],
      "text/plain": [
       "     lower     upper    \n",
       "var1 0.3293293 0.7117117"
      ]
     },
     "metadata": {},
     "output_type": "display_data"
    }
   ],
   "source": [
    "samples <- sample(p_grid, size=1e4, replace=T, prob=posterior)\n",
    "\n",
    "library(coda)\n",
    "HPDinterval(as.mcmc(samples), prob=0.9) \n",
    "\n",
    "# stolen from here https://stats.stackexchange.com/questions/18533/find-probability-density-intervals"
   ]
  },
  {
   "cell_type": "markdown",
   "metadata": {},
   "source": [
    "3M3. Construct a posterior predictive check for this model and data. This means simulate the distribution of samples, averaging over the posterior uncertainty in p. What is the probability of observing 8 water in 15 tosses?"
   ]
  },
  {
   "cell_type": "code",
   "execution_count": 12,
   "metadata": {},
   "outputs": [
    {
     "data": {
      "image/png": "[encoded data removed]",
      "text/plain": [
       "Plot with title “Histogram of w”"
      ]
     },
     "metadata": {},
     "output_type": "display_data"
    }
   ],
   "source": [
    "w <- rbinom(1e4, size=15, prob=samples)\n",
    "\n",
    "hist(w)\n",
    "\n",
    "sum(w == 8) / length(w)"
   ]
  },
  {
   "cell_type": "code",
   "execution_count": 4,
   "metadata": {},
   "outputs": [
    {
     "ename": "ERROR",
     "evalue": "Error in session(): could not find function \"session\"\n",
     "output_type": "error",
     "traceback": [
      "Error in session(): could not find function \"session\"\nTraceback:\n"
     ]
    }
   ],
   "source": [
    "# 3M4\n",
    "w <- rbinom(1e4, size=9, prob=samples)\n",
    "\n",
    "sum(w == 6) / length(w)"
   ]
  },
  {
   "cell_type": "code",
   "execution_count": null,
   "metadata": {},
   "outputs": [],
   "source": []
  }
 ],
 "metadata": {
  "kernelspec": {
   "display_name": "R",
   "language": "R",
   "name": "ir"
  },
  "language_info": {
   "codemirror_mode": "r",
   "file_extension": ".r",
   "mimetype": "text/x-r-source",
   "name": "R",
   "pygments_lexer": "r",
   "version": "3.5.1"
  }
 },
 "nbformat": 4,
 "nbformat_minor": 2
}
